{
 "cells": [
  {
   "cell_type": "code",
   "execution_count": 14,
   "metadata": {},
   "outputs": [],
   "source": [
    "from tkinter import *\n",
    "from today_recom import TodayRecommend\n",
    "import pandas as pd\n",
    "\n",
    "def counter():\n",
    "    i = 0\n",
    "    while True:\n",
    "        yield i\n",
    "        i += 1\n",
    "\n",
    "def main():\n",
    "    PDI = pd.read_csv(\"ProductInfo.csv\")\n",
    "    root = Tk()\n",
    "    root.title(\"Recommend system\")\n",
    "    root.geometry(\"375x400+100+100\")\n",
    "    root.resizable(False, False)\n",
    "    frame= Frame(root)\n",
    "    frame1 = Frame(frame)\n",
    "    frame2 = Frame(frame)\n",
    "    label1 = Label(frame, text= \"오늘의 상품\")\n",
    "    canvas1 = Canvas(frame1)\n",
    "    canvas2 = Canvas(frame2)\n",
    "    listbox1= Listbox(canvas1,width=50)\n",
    "    listbox2= Listbox(canvas2,width=50)\n",
    "    entry = Entry(frame)\n",
    "    button1 = Button(frame, text=\"조회\")\n",
    "    label2 = Label(frame, text= \"고객 ID\")\n",
    "    scrollbar1 = Scrollbar(frame1,orient=\"vertical\",command=listbox1.yview)\n",
    "    scrollbar2 = Scrollbar(frame2,orient=\"vertical\",command=listbox2.yview)\n",
    "\n",
    "    label1.grid(row=0,column=0,columnspan=3, sticky='ew')\n",
    "    frame1.grid(row=1, column=0,columnspan=3, sticky='ew')\n",
    "    canvas1.grid(row=0, column=0)\n",
    "    scrollbar1.grid(row=0,column=1,sticky='ns')\n",
    "    listbox1.grid(row=0,column=0,sticky='ew')\n",
    "    listbox1.config(yscrollcommand = scrollbar1.set)\n",
    "    label2.grid(row=2,column=0)\n",
    "    entry.grid(row=2,column=1,sticky='ew')\n",
    "    button1.grid(row=2,column=2)\n",
    "    frame2.grid(row=3, column=0,columnspan=3, sticky='ew')\n",
    "    canvas2.grid(row=0, column=0)\n",
    "    scrollbar2.grid(row=0,column=1,sticky='ns')\n",
    "    listbox2.grid(row=0,column=0,sticky='ew')\n",
    "    frame.pack(fill=\"both\")\n",
    "    today_product = TodayRecommend()\n",
    "\n",
    "    weekday_population, hour_population = today_product.today_recommend()\n",
    "    k = ~weekday_population.isin(hour_population)\n",
    "    pdi =  PDI[[\"pd_c\",\"clac_nm3\"]].set_index(\"pd_c\")\n",
    "    for cou,i,j in zip(counter(), weekday_population,hour_population):\n",
    "        if k[cou]:\n",
    "            listbox1.insert(END,pdi.loc[i].values)\n",
    "        listbox1.insert(END,pdi.loc[j].values)\n",
    "#         else:\n",
    "#             listbox1.insert(END, i)\n",
    "    root.mainloop()\n",
    "main()"
   ]
  },
  {
   "cell_type": "code",
   "execution_count": null,
   "metadata": {},
   "outputs": [],
   "source": []
  },
  {
   "cell_type": "code",
   "execution_count": null,
   "metadata": {},
   "outputs": [],
   "source": []
  }
 ],
 "metadata": {
  "kernelspec": {
   "display_name": "Python [conda env:py37] *",
   "language": "python",
   "name": "conda-env-py37-py"
  },
  "language_info": {
   "codemirror_mode": {
    "name": "ipython",
    "version": 3
   },
   "file_extension": ".py",
   "mimetype": "text/x-python",
   "name": "python",
   "nbconvert_exporter": "python",
   "pygments_lexer": "ipython3",
   "version": "3.6.9"
  }
 },
 "nbformat": 4,
 "nbformat_minor": 2
}
