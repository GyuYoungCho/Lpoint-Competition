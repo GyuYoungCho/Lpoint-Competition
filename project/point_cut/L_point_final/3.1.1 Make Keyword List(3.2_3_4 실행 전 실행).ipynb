{
 "cells": [
  {
   "cell_type": "code",
   "execution_count": 1,
   "metadata": {},
   "outputs": [],
   "source": [
    "import pandas as pd\n",
    "import numpy as np\n",
    "\n",
    "from tqdm import tqdm #시간 측정용\n",
    "\n",
    "# ----------------------- 한글 ----------------------- #\n",
    "import MeCab\n",
    "mec = MeCab.Tagger()"
   ]
  },
  {
   "cell_type": "code",
   "execution_count": 2,
   "metadata": {},
   "outputs": [
    {
     "name": "stderr",
     "output_type": "stream",
     "text": [
      "E:\\Anaconda3\\lib\\site-packages\\IPython\\core\\interactiveshell.py:3057: DtypeWarning: Columns (9) have mixed types. Specify dtype option on import or set low_memory=False.\n",
      "  interactivity=interactivity, compiler=compiler, result=result)\n"
     ]
    }
   ],
   "source": [
    "beh = pd.read_csv(\"./Data/제6회 L.POINT Big Data Competition-분석용데이터-01.온라인 행동 정보.csv\")\n",
    "tra = pd.read_csv(\"./Data/제6회 L.POINT Big Data Competition-분석용데이터-02.거래 정보.csv\")\n",
    "cla = pd.read_csv(\"./Data/제6회 L.POINT Big Data Competition-분석용데이터-04.상품분류 정보.csv\")\n",
    "cus = pd.read_csv(\"./Data/제6회 L.POINT Big Data Competition-분석용데이터-03.고객 Demographic 정보.csv\")"
   ]
  },
  {
   "cell_type": "code",
   "execution_count": 3,
   "metadata": {},
   "outputs": [],
   "source": [
    "# ----------------------- 정규표현식 ----------------------- #\n",
    "import re\n",
    "is_ProductName = re.compile(\"[a-zA-Z0-9]+\")"
   ]
  },
  {
   "cell_type": "code",
   "execution_count": 4,
   "metadata": {},
   "outputs": [],
   "source": [
    "def MCSplit(keyword):\n",
    "    ret = []\n",
    "    for i in keyword.split(\"\\n\"):\n",
    "        app = i.split(\"\\t\")[0]\n",
    "        if app != 'EOS':\n",
    "            ret.append(app)\n",
    "        else:\n",
    "            return ret\n",
    "    return ret\n",
    "def subSChar(keyword):\n",
    "    ret = re.sub(\"[-=+,.!@#$%^&*(\\)[\\]<\\>{\\}\\'\\\"/_|ㄱ-ㅎ|ㅏ-ㅣ]\",\" \",keyword)\n",
    "    return ret\n",
    "def KoEnMorphs(keyword):\n",
    "    x = (subSChar(keyword.lower())).split()\n",
    "    for i in range(0,len(x)):\n",
    "        for j in is_ProductName.findall(x[i]):\n",
    "            x[i] = x[i].replace(j,\" \" + j + \" \")\n",
    "    x = (\" \".join(x)).split()\n",
    "    ret = []\n",
    "    for i in x:\n",
    "        if is_ProductName.fullmatch(i) == None:\n",
    "            ret += MCSplit(mec.parse((i)))\n",
    "        else:\n",
    "            ret.append(i)\n",
    "    return ret"
   ]
  },
  {
   "cell_type": "code",
   "execution_count": 6,
   "metadata": {},
   "outputs": [],
   "source": [
    "# ----------------------------------------------------------------- word2Vec ----------------------------------------------------------------- #"
   ]
  },
  {
   "cell_type": "code",
   "execution_count": 14,
   "metadata": {},
   "outputs": [],
   "source": [
    "# 필요 디렉토리 생성\n",
    "import os\n",
    "try:\n",
    "    if not(os.path.isdir('./Word2Vec')):\n",
    "        os.makedirs(os.path.join('./Word2Vec'))\n",
    "except OSError as e:\n",
    "    if e.errno != errno.EEXIST:\n",
    "        print(\"디렉토리 생성 실패.\")"
   ]
  },
  {
   "cell_type": "code",
   "execution_count": 15,
   "metadata": {
    "scrolled": true
   },
   "outputs": [
    {
     "name": "stderr",
     "output_type": "stream",
     "text": [
      "100%|███████████████████████████████████████████████████████████████████████████████| 970/970 [00:06<00:00, 162.58it/s]\n"
     ]
    }
   ],
   "source": [
    "TrainKwd_Word2Vec = []\n",
    "\n",
    "clnt_info = cus[cus[\"clnt_age\"].isin([\"10\",\"20\"])]\n",
    "\n",
    "for cid in tqdm(range(0,clnt_info.shape[0])):\n",
    "\n",
    "    # 필요한 ID를 받아온다.\n",
    "    beh_cid = beh[beh[\"clnt_id\"]==clnt_info.iloc[cid,0]].sort_values([\"sess_id\",\"hit_seq\"])\n",
    "\n",
    "    if beh_cid.shape[0] == 0:\n",
    "        continue\n",
    "\n",
    "    # 검색 키워드 처리\n",
    "    temp_kwd_x = []\n",
    "    sess_kwd_list = beh_cid[beh_cid[\"action_type\"]==0][\"sech_kwd\"].values\n",
    "    \n",
    "    if len(sess_kwd_list) == 0:\n",
    "        continue\n",
    "    for i in sess_kwd_list:\n",
    "        temp_kwd_x += KoEnMorphs(i)\n",
    "    \n",
    "    TrainKwd_Word2Vec.append(temp_kwd_x)\n",
    "np.save(\"./Word2Vec/TrainKwd Word2Vec1020 데이터\",TrainKwd_Word2Vec)"
   ]
  },
  {
   "cell_type": "code",
   "execution_count": 16,
   "metadata": {
    "scrolled": true
   },
   "outputs": [
    {
     "name": "stderr",
     "output_type": "stream",
     "text": [
      "100%|█████████████████████████████████████████████████████████████████████████████| 4307/4307 [00:28<00:00, 151.14it/s]\n"
     ]
    }
   ],
   "source": [
    "TrainKwd_Word2Vec = []\n",
    "\n",
    "clnt_info = cus[cus[\"clnt_age\"].isin([\"30\"])]\n",
    "for cid in tqdm(range(0,clnt_info.shape[0])):\n",
    "\n",
    "    # 필요한 ID를 받아온다.\n",
    "    beh_cid = beh[beh[\"clnt_id\"]==clnt_info.iloc[cid,0]].sort_values([\"sess_id\",\"hit_seq\"])\n",
    "\n",
    "    if beh_cid.shape[0] == 0:\n",
    "        continue\n",
    "\n",
    "    # 검색 키워드 처리\n",
    "    temp_kwd_x = []\n",
    "    sess_kwd_list = beh_cid[beh_cid[\"action_type\"]==0][\"sech_kwd\"].values\n",
    "\n",
    "    if len(sess_kwd_list) == 0:\n",
    "        continue\n",
    "        \n",
    "    for i in sess_kwd_list:\n",
    "        temp_kwd_x += KoEnMorphs(i)\n",
    "    TrainKwd_Word2Vec.append(temp_kwd_x)\n",
    "np.save(\"./Word2Vec/TrainKwd Word2Vec30 데이터\",TrainKwd_Word2Vec)"
   ]
  },
  {
   "cell_type": "code",
   "execution_count": 17,
   "metadata": {
    "scrolled": true
   },
   "outputs": [
    {
     "name": "stderr",
     "output_type": "stream",
     "text": [
      "100%|█████████████████████████████████████████████████████████████████████████████| 4948/4948 [00:33<00:00, 146.13it/s]\n"
     ]
    }
   ],
   "source": [
    "TrainKwd_Word2Vec = []\n",
    "\n",
    "clnt_info = cus[cus[\"clnt_age\"].isin([\"40\"])]\n",
    "for cid in tqdm(range(0,clnt_info.shape[0])):\n",
    "\n",
    "    # 필요한 ID를 받아온다.\n",
    "    beh_cid = beh[beh[\"clnt_id\"]==clnt_info.iloc[cid,0]].sort_values([\"sess_id\",\"hit_seq\"])\n",
    "\n",
    "    if beh_cid.shape[0] == 0:\n",
    "        continue\n",
    "\n",
    "    # 검색 키워드 처리\n",
    "    temp_kwd_x = []\n",
    "    sess_kwd_list = beh_cid[beh_cid[\"action_type\"]==0][\"sech_kwd\"].values\n",
    "\n",
    "    if len(sess_kwd_list) == 0:\n",
    "        continue\n",
    "        \n",
    "    for i in sess_kwd_list:\n",
    "        temp_kwd_x += KoEnMorphs(i)\n",
    "    TrainKwd_Word2Vec.append(temp_kwd_x)\n",
    "np.save(\"./Word2Vec/TrainKwd Word2Vec40 데이터\",TrainKwd_Word2Vec)"
   ]
  },
  {
   "cell_type": "code",
   "execution_count": 18,
   "metadata": {
    "scrolled": true
   },
   "outputs": [
    {
     "name": "stderr",
     "output_type": "stream",
     "text": [
      "100%|█████████████████████████████████████████████████████████████████████████████| 2020/2020 [00:13<00:00, 150.88it/s]\n"
     ]
    }
   ],
   "source": [
    "TrainKwd_Word2Vec = []\n",
    "\n",
    "clnt_info = cus[cus[\"clnt_age\"].isin([\"50\",\"60\"])]\n",
    "for cid in tqdm(range(0,clnt_info.shape[0])):\n",
    "\n",
    "    # 필요한 ID를 받아온다.\n",
    "    beh_cid = beh[beh[\"clnt_id\"]==clnt_info.iloc[cid,0]].sort_values([\"sess_id\",\"hit_seq\"])\n",
    "\n",
    "    if beh_cid.shape[0] == 0:\n",
    "        continue\n",
    "\n",
    "    # 검색 키워드 처리\n",
    "    temp_kwd_x = []\n",
    "    sess_kwd_list = beh_cid[beh_cid[\"action_type\"]==0][\"sech_kwd\"].values\n",
    "\n",
    "    if len(sess_kwd_list) == 0:\n",
    "        continue\n",
    "        \n",
    "    for i in sess_kwd_list:\n",
    "        temp_kwd_x += KoEnMorphs(i)\n",
    "    TrainKwd_Word2Vec.append(temp_kwd_x)\n",
    "np.save(\"./Word2Vec/TrainKwd Word2Vec5060 데이터\",TrainKwd_Word2Vec)"
   ]
  },
  {
   "cell_type": "code",
   "execution_count": 19,
   "metadata": {
    "scrolled": true
   },
   "outputs": [
    {
     "name": "stderr",
     "output_type": "stream",
     "text": [
      "100%|███████████████████████████████████████████████████████████████████████████| 10352/10352 [01:10<00:00, 146.90it/s]\n"
     ]
    }
   ],
   "source": [
    "TrainKwd_Word2Vec = []\n",
    "\n",
    "clnt_info = cus[cus[\"clnt_gender\"]==\"F\"]\n",
    "for cid in tqdm(range(0,clnt_info.shape[0])):\n",
    "\n",
    "    # 필요한 ID를 받아온다.\n",
    "    beh_cid = beh[beh[\"clnt_id\"]==clnt_info.iloc[cid,0]].sort_values([\"sess_id\",\"hit_seq\"])\n",
    "\n",
    "    if beh_cid.shape[0] == 0:\n",
    "        continue\n",
    "\n",
    "    # 검색 키워드 처리\n",
    "    temp_kwd_x = []\n",
    "    sess_kwd_list = beh_cid[beh_cid[\"action_type\"]==0][\"sech_kwd\"].values\n",
    "\n",
    "    if len(sess_kwd_list) == 0:\n",
    "        continue\n",
    "        \n",
    "    for i in sess_kwd_list:\n",
    "        temp_kwd_x += KoEnMorphs(i)\n",
    "    TrainKwd_Word2Vec.append(temp_kwd_x)\n",
    "np.save(\"./Word2Vec/TrainKwd Word2Vec 여성 데이터\",TrainKwd_Word2Vec)"
   ]
  },
  {
   "cell_type": "code",
   "execution_count": 20,
   "metadata": {
    "scrolled": true
   },
   "outputs": [
    {
     "name": "stderr",
     "output_type": "stream",
     "text": [
      "100%|█████████████████████████████████████████████████████████████████████████████| 1893/1893 [00:11<00:00, 158.64it/s]\n"
     ]
    }
   ],
   "source": [
    "TrainKwd_Word2Vec = []\n",
    "\n",
    "clnt_info = cus[cus[\"clnt_gender\"]==\"M\"]\n",
    "for cid in tqdm(range(0,clnt_info.shape[0])):\n",
    "\n",
    "    # 필요한 ID를 받아온다.\n",
    "    beh_cid = beh[beh[\"clnt_id\"]==clnt_info.iloc[cid,0]].sort_values([\"sess_id\",\"hit_seq\"])\n",
    "\n",
    "    if beh_cid.shape[0] == 0:\n",
    "        continue\n",
    "\n",
    "    # 검색 키워드 처리\n",
    "    temp_kwd_x = []\n",
    "    sess_kwd_list = beh_cid[beh_cid[\"action_type\"]==0][\"sech_kwd\"].values\n",
    "\n",
    "    if len(sess_kwd_list) == 0:\n",
    "        continue\n",
    "        \n",
    "    for i in sess_kwd_list:\n",
    "        temp_kwd_x += KoEnMorphs(i)\n",
    "    TrainKwd_Word2Vec.append(temp_kwd_x)\n",
    "np.save(\"./Word2Vec/TrainKwd Word2Vec 남성 데이터\",TrainKwd_Word2Vec)"
   ]
  }
 ],
 "metadata": {
  "kernelspec": {
   "display_name": "Python 3",
   "language": "python",
   "name": "python3"
  },
  "language_info": {
   "codemirror_mode": {
    "name": "ipython",
    "version": 3
   },
   "file_extension": ".py",
   "mimetype": "text/x-python",
   "name": "python",
   "nbconvert_exporter": "python",
   "pygments_lexer": "ipython3",
   "version": "3.7.3"
  }
 },
 "nbformat": 4,
 "nbformat_minor": 2
}
