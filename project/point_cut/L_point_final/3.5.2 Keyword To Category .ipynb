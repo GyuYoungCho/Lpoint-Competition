{
 "cells": [
  {
   "cell_type": "code",
   "execution_count": 1,
   "metadata": {},
   "outputs": [],
   "source": [
    "import pandas as pd\n",
    "import numpy as np\n",
    "\n",
    "from tqdm import tqdm #시간 측정용\n",
    "\n",
    "# ---------- 한글 --------- #\n",
    "import MeCab\n",
    "mec = MeCab.Tagger()\n",
    "\n",
    "pd.set_option(\"display.max_rows\", 500)"
   ]
  },
  {
   "cell_type": "code",
   "execution_count": 2,
   "metadata": {},
   "outputs": [],
   "source": [
    "# ----------------------- 정규표현식 ----------------------- #\n",
    "import re\n",
    "is_ProductName = re.compile(\"[a-zA-Z0-9]+\")\n",
    "# is_KoScalar = re.compile(\"[0-9]+[단칸롤개팩장캔종입원매분시일초포호쿼마단부인박]{1}[터리계분용스]{0,1}\")"
   ]
  },
  {
   "cell_type": "code",
   "execution_count": 3,
   "metadata": {},
   "outputs": [],
   "source": [
    "def MCSplit(keyword):\n",
    "    ret = []\n",
    "    for i in keyword.split(\"\\n\"):\n",
    "        app = i.split(\"\\t\")[0]\n",
    "        if app != 'EOS':\n",
    "            ret.append(app)\n",
    "        else:\n",
    "            return ret\n",
    "    return ret\n",
    "def subSChar(keyword):\n",
    "    ret = re.sub(\"[-=+,.!@#$%^&*(\\)[\\]<\\>{\\}\\'\\\"/_|ㄱ-ㅎ|ㅏ-ㅣ]\",\" \",keyword)\n",
    "    return ret\n",
    "def KoEnMorphs(keyword):\n",
    "    x = (subSChar(keyword.lower())).split()\n",
    "    for i in range(0,len(x)):\n",
    "        for j in is_ProductName.findall(x[i]):\n",
    "            x[i] = x[i].replace(j,\" \" + j + \" \")\n",
    "    x = (\" \".join(x)).split()\n",
    "    ret = []\n",
    "    for i in x:\n",
    "        if is_ProductName.fullmatch(i) == None:\n",
    "            ret += MCSplit(mec.parse((i)))\n",
    "        else:\n",
    "            ret.append(i)\n",
    "    return ret"
   ]
  },
  {
   "cell_type": "code",
   "execution_count": 4,
   "metadata": {},
   "outputs": [
    {
     "name": "stderr",
     "output_type": "stream",
     "text": [
      "E:\\Anaconda3\\lib\\site-packages\\IPython\\core\\interactiveshell.py:3057: DtypeWarning: Columns (9) have mixed types. Specify dtype option on import or set low_memory=False.\n",
      "  interactivity=interactivity, compiler=compiler, result=result)\n"
     ]
    }
   ],
   "source": [
    "beh = pd.read_csv(\"./Data/제6회 L.POINT Big Data Competition-분석용데이터-01.온라인 행동 정보.csv\")\n",
    "tra = pd.read_csv(\"./Data/제6회 L.POINT Big Data Competition-분석용데이터-02.거래 정보.csv\")\n",
    "cus = pd.read_csv(\"./Data/제6회 L.POINT Big Data Competition-분석용데이터-03.고객 Demographic 정보.csv\")\n",
    "cla = pd.read_csv(\"./Data/제6회 L.POINT Big Data Competition-분석용데이터-04.상품분류 정보.csv\")"
   ]
  },
  {
   "cell_type": "code",
   "execution_count": 5,
   "metadata": {},
   "outputs": [],
   "source": [
    "# ------------------------------- 대분류에 키워드 담기 ------------------------------- #"
   ]
  },
  {
   "cell_type": "code",
   "execution_count": 6,
   "metadata": {
    "scrolled": false
   },
   "outputs": [],
   "source": [
    "kwd_Clac_nm1 = np.load(\"./Keyword in Clac_nm123/대분류 pd_c 키워드 파일.npy\")\n",
    "kwd_Clac_nm2 = np.load(\"./Keyword in Clac_nm123/중분류 pd_c 키워드 파일.npy\")\n",
    "kwd_Clac_nm3 = np.load(\"./Keyword in Clac_nm123/소분류 pd_c 키워드 파일.npy\")"
   ]
  },
  {
   "cell_type": "code",
   "execution_count": 7,
   "metadata": {},
   "outputs": [],
   "source": [
    "clac_nm1_Name = np.load(\"./Keyword in Clac_nm123/대분류 pd_c Name 파일.npy\")\n",
    "clac_nm2_Name = np.load(\"./Keyword in Clac_nm123/중분류 pd_c Name 파일.npy\")\n",
    "clac_nm3_Name = np.load(\"./Keyword in Clac_nm123/소분류 pd_c Name 파일.npy\")"
   ]
  },
  {
   "cell_type": "code",
   "execution_count": 11,
   "metadata": {},
   "outputs": [
    {
     "name": "stderr",
     "output_type": "stream",
     "text": [
      "100%|██████████████████████████████████████████████████████████████████████████████████| 60/60 [00:07<00:00,  7.55it/s]\n",
      "100%|████████████████████████████████████████████████████████████████████████████████| 332/332 [00:08<00:00, 41.18it/s]\n"
     ]
    }
   ],
   "source": [
    "# 카테고리별 토큰 생성\n",
    "from keras.preprocessing.text import Tokenizer\n",
    "\n",
    "num_words = 50000\n",
    " \n",
    "# 대분류 Tokenizer\n",
    "Tokenizer_Clac1 = []\n",
    "for i in tqdm(range(0,len(kwd_Clac_nm1))):\n",
    "    Tokenizer_Clac1.append(Tokenizer(num_words=num_words, filters='!\"#$%&()*+,-./:;<=>?@[\\\\]^_`{|}~\\t\\n', lower=True))\n",
    "    Tokenizer_Clac1[i].fit_on_texts(kwd_Clac_nm1[i])\n",
    "# 대분류 Tokenizer\n",
    "Tokenizer_Clac2 = []\n",
    "for i in tqdm(range(0,len(kwd_Clac_nm2))):\n",
    "    Tokenizer_Clac2.append(Tokenizer(num_words=num_words, filters='!\"#$%&()*+,-./:;<=>?@[\\\\]^_`{|}~\\t\\n', lower=True))\n",
    "    Tokenizer_Clac2[i].fit_on_texts(kwd_Clac_nm2[i])"
   ]
  },
  {
   "cell_type": "code",
   "execution_count": 12,
   "metadata": {},
   "outputs": [],
   "source": [
    "# 토큰 저장\n",
    "import pickle\n",
    "import os\n",
    "\n",
    "try:\n",
    "    if not(os.path.isdir('./Tokenizer/Clac_nm')):\n",
    "        os.makedirs(os.path.join('./Tokenizer/Clac_nm'))\n",
    "except OSError as e:\n",
    "    if e.errno != errno.EEXIST:\n",
    "        print(\"디렉토리 생성 실패.\")\n",
    "\n",
    "# Save Tokenizer 대분류 , 중분류\n",
    "for i in range(0,len(Tokenizer_Clac1)):\n",
    "    with open('./Tokenizer/Clac_nm/Tokenizer_Clac1_{0}.pickle'.format(i), 'wb') as handle:\n",
    "        pickle.dump(Tokenizer_Clac1[i], handle, protocol=pickle.HIGHEST_PROTOCOL)\n",
    "for i in range(0,len(Tokenizer_Clac2)):\n",
    "    with open('./Tokenizer/Clac_nm/Tokenizer_Clac2_{0}.pickle'.format(i), 'wb') as handle:\n",
    "        pickle.dump(Tokenizer_Clac2[i], handle, protocol=pickle.HIGHEST_PROTOCOL)"
   ]
  },
  {
   "cell_type": "code",
   "execution_count": 10,
   "metadata": {},
   "outputs": [],
   "source": [
    "# 계산식\n",
    "def SequenceCalc(sequence,tok):\n",
    "    ret = 0\n",
    "    for i in sequence:\n",
    "        if len(i) != 0:\n",
    "            # 순위가 높을수록 해당 카테고리일 확률이 높음\n",
    "            # 1/순위 * (단어가 나온 횟수 / 해당 문서의 총 길이)\n",
    "            ret += (1/i[0])*(tok.word_counts[tok.index_word[i[0]]]/tok.document_count)\n",
    "        else:\n",
    "            ret += 0.0\n",
    "    return ret\n",
    "# 대분류 출력\n",
    "def Kwd2Category1(keyword):\n",
    "    temp = []\n",
    "    # 순위 계산\n",
    "    for tok in Tokenizer_Clac1:\n",
    "        temp.append(SequenceCalc(tok.texts_to_sequences(KoEnMorphs(keyword)),tok))\n",
    "    # 정렬해준다.\n",
    "    tempSrt = sorted(temp, key = lambda x:float(x))\n",
    "    \n",
    "    index = []\n",
    "    for i in reversed(range(0,len(tempSrt))):\n",
    "        if tempSrt[i] != 0:\n",
    "            index.append(temp.index(tempSrt[i]))\n",
    "    # 인덱스를 찾아준다.\n",
    "    ret = []\n",
    "    for i in index:\n",
    "        ret.append(clac_nm1_Name[i])\n",
    "    return ret[:5]\n",
    "\n",
    "# 중분류 출력 -> \n",
    "def Kwd2Category2(keyword):\n",
    "    temp = []\n",
    "    # 순위 계산\n",
    "    for tok in Tokenizer_Clac2:\n",
    "        temp.append(SequenceCalc(tok.texts_to_sequences(KoEnMorphs(keyword)),tok))\n",
    "    # 정렬해준다.\n",
    "    tempSrt = sorted(temp, key = lambda x:float(x))\n",
    "    \n",
    "    index = []\n",
    "    for i in reversed(range(0,len(tempSrt))):\n",
    "        if tempSrt[i] != 0:\n",
    "            index.append(temp.index(tempSrt[i]))\n",
    "    # 인덱스를 찾아준다.\n",
    "    ret = []\n",
    "    for i in index:\n",
    "        ret.append(clac_nm2_Name[i])\n",
    "    return ret[:5]"
   ]
  }
 ],
 "metadata": {
  "kernelspec": {
   "display_name": "Python 3",
   "language": "python",
   "name": "python3"
  },
  "language_info": {
   "codemirror_mode": {
    "name": "ipython",
    "version": 3
   },
   "file_extension": ".py",
   "mimetype": "text/x-python",
   "name": "python",
   "nbconvert_exporter": "python",
   "pygments_lexer": "ipython3",
   "version": "3.7.3"
  }
 },
 "nbformat": 4,
 "nbformat_minor": 2
}
