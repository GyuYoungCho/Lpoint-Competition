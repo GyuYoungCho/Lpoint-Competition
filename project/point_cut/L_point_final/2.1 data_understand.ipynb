{
 "cells": [
  {
   "cell_type": "code",
   "execution_count": 2,
   "metadata": {},
   "outputs": [],
   "source": [
    "import pandas as pd\n",
    "\n",
    "OAI = pd.read_csv(\"./Data/OnlineActionInfo.csv\")\n",
    "TFI = pd.read_csv(\"./Data/TransferInfo.csv\")\n",
    "CTI = pd.read_csv(\"./Data/CustomerInfo.csv\")\n",
    "PDI = pd.read_csv(\"./Data/product.csv\")"
   ]
  },
  {
   "cell_type": "code",
   "execution_count": 3,
   "metadata": {},
   "outputs": [
    {
     "name": "stdout",
     "output_type": "stream",
     "text": [
      "(3196362, 14)\n",
      "<class 'pandas.core.frame.DataFrame'>\n",
      "RangeIndex: 3196362 entries, 0 to 3196361\n",
      "Data columns (total 14 columns):\n",
      "clnt_id            int64\n",
      "sess_id            int64\n",
      "hit_seq            int64\n",
      "action_type        int64\n",
      "biz_unit           object\n",
      "sess_dt            int64\n",
      "hit_tm             object\n",
      "hit_pss_tm         int64\n",
      "trans_id           float64\n",
      "sech_kwd           object\n",
      "tot_pag_view_ct    float64\n",
      "tot_sess_hr_v      float64\n",
      "trfc_src           object\n",
      "dvc_ctg_nm         object\n",
      "dtypes: float64(3), int64(6), object(5)\n",
      "memory usage: 341.4+ MB\n",
      "None\n",
      "(599961, 9)\n",
      "<class 'pandas.core.frame.DataFrame'>\n",
      "RangeIndex: 599961 entries, 0 to 599960\n",
      "Data columns (total 9 columns):\n",
      "clnt_id      599961 non-null int64\n",
      "trans_id     599961 non-null int64\n",
      "trans_seq    599961 non-null int64\n",
      "biz_unit     599961 non-null object\n",
      "pd_c         599961 non-null object\n",
      "de_dt        599961 non-null int64\n",
      "de_tm        599961 non-null object\n",
      "buy_am       599961 non-null int64\n",
      "buy_ct       599961 non-null int64\n",
      "dtypes: int64(6), object(3)\n",
      "memory usage: 41.2+ MB\n",
      "None\n",
      "(72399, 3)\n",
      "<class 'pandas.core.frame.DataFrame'>\n",
      "RangeIndex: 72399 entries, 0 to 72398\n",
      "Data columns (total 3 columns):\n",
      "clnt_id        72399 non-null int64\n",
      "clnt_gender    72399 non-null object\n",
      "clnt_age       72399 non-null object\n",
      "dtypes: int64(1), object(2)\n",
      "memory usage: 1.7+ MB\n",
      "None\n",
      "(1667, 4)\n",
      "<class 'pandas.core.frame.DataFrame'>\n",
      "RangeIndex: 1667 entries, 0 to 1666\n",
      "Data columns (total 4 columns):\n",
      "pd_c        1667 non-null int64\n",
      "clac_nm1    1667 non-null object\n",
      "clac_nm2    1667 non-null object\n",
      "clac_nm3    1665 non-null object\n",
      "dtypes: int64(1), object(3)\n",
      "memory usage: 52.2+ KB\n",
      "None\n"
     ]
    }
   ],
   "source": [
    "print(OAI.shape)\n",
    "print(OAI.info())\n",
    "print(TFI.shape)\n",
    "print(TFI.info())\n",
    "print(CTI.shape)\n",
    "print(CTI.info())\n",
    "print(PDI.shape)\n",
    "print(PDI.info())"
   ]
  },
  {
   "cell_type": "code",
   "execution_count": 4,
   "metadata": {},
   "outputs": [
    {
     "data": {
      "text/plain": [
       "clnt_id                  0\n",
       "sess_id                  0\n",
       "hit_seq                  0\n",
       "action_type              0\n",
       "biz_unit                 0\n",
       "sess_dt                  0\n",
       "hit_tm                   0\n",
       "hit_pss_tm               0\n",
       "trans_id           3139373\n",
       "sech_kwd           2544724\n",
       "tot_pag_view_ct       1428\n",
       "tot_sess_hr_v        57607\n",
       "trfc_src                 0\n",
       "dvc_ctg_nm         1782577\n",
       "dtype: int64"
      ]
     },
     "execution_count": 4,
     "metadata": {},
     "output_type": "execute_result"
    }
   ],
   "source": [
    "OAI.isnull().sum()"
   ]
  },
  {
   "cell_type": "code",
   "execution_count": 7,
   "metadata": {},
   "outputs": [
    {
     "name": "stdout",
     "output_type": "stream",
     "text": [
      "60154\n",
      "12245\n"
     ]
    }
   ],
   "source": [
    "print(len(CTI[CTI[\"clnt_gender\"]==\"unknown\"]))\n",
    "print(len(CTI[CTI[\"clnt_gender\"]!=\"unknown\"]))"
   ]
  },
  {
   "cell_type": "code",
   "execution_count": 13,
   "metadata": {},
   "outputs": [
    {
     "data": {
      "text/plain": [
       "clnt_id          0\n",
       "trans_id         0\n",
       "trans_seq        0\n",
       "biz_unit         0\n",
       "pd_c         17652\n",
       "de_dt            0\n",
       "de_tm            0\n",
       "buy_am           0\n",
       "buy_ct           0\n",
       "dtype: int64"
      ]
     },
     "execution_count": 13,
     "metadata": {},
     "output_type": "execute_result"
    }
   ],
   "source": [
    "(TFI==\"unknown\").sum()"
   ]
  },
  {
   "cell_type": "code",
   "execution_count": 14,
   "metadata": {},
   "outputs": [
    {
     "data": {
      "text/plain": [
       "clnt_id                 0\n",
       "sess_id                 0\n",
       "hit_seq                 0\n",
       "action_type             0\n",
       "biz_unit                0\n",
       "sess_dt                 0\n",
       "hit_tm                  0\n",
       "hit_pss_tm              0\n",
       "trans_id                0\n",
       "sech_kwd                0\n",
       "tot_pag_view_ct         0\n",
       "tot_sess_hr_v           0\n",
       "trfc_src           826946\n",
       "dvc_ctg_nm              0\n",
       "dtype: int64"
      ]
     },
     "execution_count": 14,
     "metadata": {},
     "output_type": "execute_result"
    }
   ],
   "source": [
    "(OAI==\"unknown\").sum()"
   ]
  },
  {
   "cell_type": "code",
   "execution_count": 15,
   "metadata": {},
   "outputs": [
    {
     "data": {
      "text/plain": [
       "pd_c        0\n",
       "clac_nm1    0\n",
       "clac_nm2    0\n",
       "clac_nm3    0\n",
       "dtype: int64"
      ]
     },
     "execution_count": 15,
     "metadata": {},
     "output_type": "execute_result"
    }
   ],
   "source": [
    "(PDI==\"unknown\").sum()"
   ]
  },
  {
   "cell_type": "code",
   "execution_count": null,
   "metadata": {},
   "outputs": [],
   "source": []
  }
 ],
 "metadata": {
  "kernelspec": {
   "display_name": "Python [conda env:py37] *",
   "language": "python",
   "name": "conda-env-py37-py"
  },
  "language_info": {
   "codemirror_mode": {
    "name": "ipython",
    "version": 3
   },
   "file_extension": ".py",
   "mimetype": "text/x-python",
   "name": "python",
   "nbconvert_exporter": "python",
   "pygments_lexer": "ipython3",
   "version": "3.6.9"
  }
 },
 "nbformat": 4,
 "nbformat_minor": 2
}
