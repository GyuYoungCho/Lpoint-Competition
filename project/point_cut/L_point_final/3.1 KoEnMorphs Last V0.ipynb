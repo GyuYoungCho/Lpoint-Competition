{
 "cells": [
  {
   "cell_type": "code",
   "execution_count": 4,
   "metadata": {},
   "outputs": [],
   "source": [
    "# ----------------------- 한글 ----------------------- #\n",
    "import MeCab\n",
    "mec = MeCab.Tagger()"
   ]
  },
  {
   "cell_type": "code",
   "execution_count": 5,
   "metadata": {},
   "outputs": [],
   "source": [
    "# ----------------------- 정규표현식 ----------------------- #\n",
    "import re\n",
    "is_ProductName = re.compile(\"[a-zA-Z0-9]+\")\n",
    "# is_KoScalar = re.compile(\"[0-9]+[단칸롤개팩장캔종입원매분시일초포호쿼마단부인박]{1}[터리계분용스]{0,1}\")"
   ]
  },
  {
   "cell_type": "code",
   "execution_count": 6,
   "metadata": {},
   "outputs": [],
   "source": [
    "def MCSplit(keyword):\n",
    "    ret = []\n",
    "    for i in keyword.split(\"\\n\"):\n",
    "        app = i.split(\"\\t\")[0]\n",
    "        if app != 'EOS':\n",
    "            ret.append(app)\n",
    "        else:\n",
    "            return ret\n",
    "    return ret\n",
    "def subSChar(keyword):\n",
    "    ret = re.sub(\"[-=+,.!@#$%^&*(\\)[\\]<\\>{\\}\\'\\\"/_|ㄱ-ㅎ|ㅏ-ㅣ]\",\" \",keyword)\n",
    "    return ret\n",
    "def KoEnMorphs(keyword):\n",
    "    x = (subSChar(keyword.lower())).split()\n",
    "    for i in range(0,len(x)):\n",
    "        for j in is_ProductName.findall(x[i]):\n",
    "            x[i] = x[i].replace(j,\" \" + j + \" \")\n",
    "    x = (\" \".join(x)).split()\n",
    "    ret = []\n",
    "    for i in x:\n",
    "        if is_ProductName.fullmatch(i) == None:\n",
    "            ret += MCSplit(mec.parse((i)))\n",
    "        else:\n",
    "            ret.append(i)\n",
    "    return ret"
   ]
  }
 ],
 "metadata": {
  "kernelspec": {
   "display_name": "Python 3",
   "language": "python",
   "name": "python3"
  },
  "language_info": {
   "codemirror_mode": {
    "name": "ipython",
    "version": 3
   },
   "file_extension": ".py",
   "mimetype": "text/x-python",
   "name": "python",
   "nbconvert_exporter": "python",
   "pygments_lexer": "ipython3",
   "version": "3.7.3"
  }
 },
 "nbformat": 4,
 "nbformat_minor": 2
}
