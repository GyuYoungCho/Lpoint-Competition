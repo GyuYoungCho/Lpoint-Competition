{
 "cells": [
  {
   "cell_type": "code",
   "execution_count": 1,
   "metadata": {},
   "outputs": [
    {
     "name": "stderr",
     "output_type": "stream",
     "text": [
      "Using TensorFlow backend.\n"
     ]
    }
   ],
   "source": [
    "import pandas as pd\n",
    "import numpy as np\n",
    "\n",
    "from tqdm import tqdm #시간 측정용\n",
    "\n",
    "# ---------- 한글 --------- #\n",
    "import MeCab\n",
    "mec = MeCab.Tagger()\n",
    "\n",
    "import pickle\n",
    "\n",
    "import datetime\n",
    "from datetime import timedelta\n",
    "\n",
    "from collections import Counter\n",
    "\n",
    "from keras.preprocessing.text import Tokenizer\n",
    "\n",
    "pd.set_option(\"display.max_rows\", 500)"
   ]
  },
  {
   "cell_type": "code",
   "execution_count": 2,
   "metadata": {},
   "outputs": [
    {
     "name": "stderr",
     "output_type": "stream",
     "text": [
      "E:\\Anaconda3\\lib\\site-packages\\IPython\\core\\interactiveshell.py:3057: DtypeWarning: Columns (9) have mixed types. Specify dtype option on import or set low_memory=False.\n",
      "  interactivity=interactivity, compiler=compiler, result=result)\n"
     ]
    }
   ],
   "source": [
    "# ------------------------------- Data load ------------------------------- #\n",
    "beh = pd.read_csv(\"./Data/제6회 L.POINT Big Data Competition-분석용데이터-01.온라인 행동 정보.csv\")\n",
    "tra = pd.read_csv(\"./Data/제6회 L.POINT Big Data Competition-분석용데이터-02.거래 정보.csv\")\n",
    "cus = pd.read_csv(\"./Data/제6회 L.POINT Big Data Competition-분석용데이터-03.고객 Demographic 정보.csv\")\n",
    "cla = pd.read_csv(\"./Data/제6회 L.POINT Big Data Competition-분석용데이터-04.상품분류 정보.csv\")"
   ]
  },
  {
   "cell_type": "code",
   "execution_count": 21,
   "metadata": {},
   "outputs": [],
   "source": [
    "# pd_c 추천 함수\n",
    "pd_cArr = np.load(\"./Keyword in Clac_nm123/pd_cArr.npy\")\n",
    "def Recommend_PD_C(pdc,categorylen):\n",
    "    if len(Counter(pd_cArr[pdc-1])) <= categorylen:\n",
    "        categorylen = len(Counter(pd_cArr[pdc-1]))\n",
    "        if categorylen == 0:\n",
    "            print(\"추천 할 수 있는 데이터가 없습니다.\")\n",
    "            return -1\n",
    "    return [key for key, _ in Counter(pd_cArr[pdc-1]).most_common(categorylen)]"
   ]
  },
  {
   "cell_type": "code",
   "execution_count": 5,
   "metadata": {
    "scrolled": true
   },
   "outputs": [
    {
     "name": "stderr",
     "output_type": "stream",
     "text": [
      "100%|█████████████████████████████████████████████████████████████████████████| 116440/116440 [12:01<00:00, 161.48it/s]\n"
     ]
    }
   ],
   "source": [
    "# ----------------------------------------------- PD_C 배열 생성 ----------------------------------------------- #\n",
    "# Trans ID\n",
    "tid = tra[\"trans_id\"].drop_duplicates().values\n",
    "tra = tra.sort_values([\"trans_id\",\"trans_seq\",\"clnt_id\"])\n",
    "tra = tra[tra[\"pd_c\"]!='unknown']\n",
    "\n",
    "# 배열  0 ~ 1666\n",
    "pd_cArr = []\n",
    "for i in range(1667):\n",
    "    pd_cArr.append([])\n",
    "    \n",
    "for i in tqdm(tid):\n",
    "    temp_pd_cArr = tra[tra[\"trans_id\"]==i][\"pd_c\"].astype(int).values.tolist()\n",
    "    for i in temp_pd_cArr:\n",
    "        # 자기자신 빼고 입력\n",
    "        temp_pd_cArr.remove(i)\n",
    "        pd_cArr[i-1] += cla[cla[\"pd_c\"].isin(temp_pd_cArr)][\"clac_nm3\"].drop_duplicates().values.tolist()\n",
    "        temp_pd_cArr.append(i)\n",
    "# ----------------------------------------------- PD_C 배열 생성 ----------------------------------------------- #"
   ]
  },
  {
   "cell_type": "code",
   "execution_count": 6,
   "metadata": {},
   "outputs": [],
   "source": [
    "np.save(\"./Keyword in Clac_nm123/pd_cArr\",pd_cArr)"
   ]
  }
 ],
 "metadata": {
  "kernelspec": {
   "display_name": "Python 3",
   "language": "python",
   "name": "python3"
  },
  "language_info": {
   "codemirror_mode": {
    "name": "ipython",
    "version": 3
   },
   "file_extension": ".py",
   "mimetype": "text/x-python",
   "name": "python",
   "nbconvert_exporter": "python",
   "pygments_lexer": "ipython3",
   "version": "3.7.3"
  }
 },
 "nbformat": 4,
 "nbformat_minor": 2
}
