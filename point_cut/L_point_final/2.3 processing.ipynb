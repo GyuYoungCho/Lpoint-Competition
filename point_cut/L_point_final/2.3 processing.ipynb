{
 "cells": [
  {
   "cell_type": "code",
   "execution_count": 5,
   "metadata": {},
   "outputs": [],
   "source": [
    "import pandas as pd\n",
    "import numpy as np\n",
    "from tqdm import tqdm\n",
    "\n",
    "OAI = pd.read_csv(\"./Data/OnlineActionInfo.csv\")\n",
    "TFI = pd.read_csv(\"./Data/TransferInfo.csv\")\n",
    "CTI1 = pd.read_csv(\"./Data/CustomerInfo.csv\")"
   ]
  },
  {
   "cell_type": "code",
   "execution_count": 2,
   "metadata": {},
   "outputs": [
    {
     "name": "stderr",
     "output_type": "stream",
     "text": [
      "C:\\Users\\Gyu\\Anaconda3\\envs\\py37\\lib\\site-packages\\ipykernel_launcher.py:2: SettingWithCopyWarning: \n",
      "A value is trying to be set on a copy of a slice from a DataFrame\n",
      "\n",
      "See the caveats in the documentation: http://pandas.pydata.org/pandas-docs/stable/user_guide/indexing.html#returning-a-view-versus-a-copy\n",
      "  \n",
      "C:\\Users\\Gyu\\Anaconda3\\envs\\py37\\lib\\site-packages\\ipykernel_launcher.py:3: SettingWithCopyWarning: \n",
      "A value is trying to be set on a copy of a slice from a DataFrame\n",
      "\n",
      "See the caveats in the documentation: http://pandas.pydata.org/pandas-docs/stable/user_guide/indexing.html#returning-a-view-versus-a-copy\n",
      "  This is separate from the ipykernel package so we can avoid doing imports until\n",
      "C:\\Users\\Gyu\\Anaconda3\\envs\\py37\\lib\\site-packages\\ipykernel_launcher.py:4: SettingWithCopyWarning: \n",
      "A value is trying to be set on a copy of a slice from a DataFrame\n",
      "\n",
      "See the caveats in the documentation: http://pandas.pydata.org/pandas-docs/stable/user_guide/indexing.html#returning-a-view-versus-a-copy\n",
      "  after removing the cwd from sys.path.\n",
      "C:\\Users\\Gyu\\Anaconda3\\envs\\py37\\lib\\site-packages\\ipykernel_launcher.py:5: SettingWithCopyWarning: \n",
      "A value is trying to be set on a copy of a slice from a DataFrame\n",
      "\n",
      "See the caveats in the documentation: http://pandas.pydata.org/pandas-docs/stable/user_guide/indexing.html#returning-a-view-versus-a-copy\n",
      "  \"\"\"\n",
      "100%|██████████| 5675/5675 [09:20<00:00, 10.12it/s]\n"
     ]
    }
   ],
   "source": [
    "# 나이대 합치기\n",
    "CTI1[\"clnt_age\"][CTI1[\"clnt_age\"]==\"10\"] = \"10-20\"\n",
    "CTI1[\"clnt_age\"][CTI1[\"clnt_age\"]==\"20\"] = \"10-20\"\n",
    "CTI1[\"clnt_age\"][CTI1[\"clnt_age\"]==\"50\"] = \"50-60\"\n",
    "CTI1[\"clnt_age\"][CTI1[\"clnt_age\"]==\"60\"] = \"50-60\"\n",
    "\n",
    "TFI = TFI[TFI[\"pd_c\"].notnull()]\n",
    "TFI = TFI[(TFI[\"buy_am\"]<100000000)&(TFI[\"buy_am\"]!=0)&(TFI[\"buy_ct\"]!=0)]\n",
    "TFI = TFI[TFI[\"pd_c\"]!=\"unknown\"]\n",
    "\n",
    "OAI = OAI[OAI[\"tot_sess_hr_v\"].notnull()]\n",
    "OAI = OAI[OAI[\"tot_pag_view_ct\"].notnull()]\n",
    "\n",
    "# 환불 내역 제거\n",
    "\n",
    "oai7 = OAI[OAI[\"action_type\"]==7].reset_index(drop=True)\n",
    "oai6 = OAI[OAI[\"action_type\"]==6]\n",
    "\n",
    "from tqdm import tqdm\n",
    "for i in tqdm(range(oai7.shape[0])):\n",
    "    oai6 = oai6.drop(oai6[((oai6[\"clnt_id\"]==oai7[\"clnt_id\"][i])&(oai6[\"trans_id\"]==oai7[\"trans_id\"][i]))].index)\n",
    "    TFI = TFI.drop(TFI[((TFI[\"clnt_id\"]==oai7[\"clnt_id\"][i])&(TFI[\"trans_id\"]==oai7[\"trans_id\"][i]))].index)\n",
    "oai0 = OAI[(OAI[\"action_type\"]!=7)&(OAI[\"action_type\"]!=6)]\n",
    "OAI = pd.concat([oai0,oai6],axis=0)"
   ]
  },
  {
   "cell_type": "code",
   "execution_count": 6,
   "metadata": {},
   "outputs": [],
   "source": [
    "OAI.to_csv(\"./Data/Online.csv\",index=False)\n",
    "CTI1.to_csv(\"./Data/Customer.csv\",index=False)\n",
    "TFI.to_csv(\"./Data/transfer.csv\",index=False)"
   ]
  },
  {
   "cell_type": "code",
   "execution_count": null,
   "metadata": {},
   "outputs": [],
   "source": []
  }
 ],
 "metadata": {
  "kernelspec": {
   "display_name": "Python [conda env:py37] *",
   "language": "python",
   "name": "conda-env-py37-py"
  },
  "language_info": {
   "codemirror_mode": {
    "name": "ipython",
    "version": 3
   },
   "file_extension": ".py",
   "mimetype": "text/x-python",
   "name": "python",
   "nbconvert_exporter": "python",
   "pygments_lexer": "ipython3",
   "version": "3.6.9"
  }
 },
 "nbformat": 4,
 "nbformat_minor": 2
}
