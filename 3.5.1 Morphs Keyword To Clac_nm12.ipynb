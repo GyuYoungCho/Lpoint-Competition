{
 "cells": [
  {
   "cell_type": "code",
   "execution_count": 1,
   "metadata": {},
   "outputs": [],
   "source": [
    "import pandas as pd\n",
    "import numpy as np\n",
    "\n",
    "from tqdm import tqdm #시간 측정용\n",
    "\n",
    "# ---------- 한글 --------- #\n",
    "import MeCab\n",
    "mec = MeCab.Tagger()\n",
    "\n",
    "pd.set_option(\"display.max_rows\", 500)"
   ]
  },
  {
   "cell_type": "code",
   "execution_count": 2,
   "metadata": {},
   "outputs": [],
   "source": [
    "# ----------------------- 정규표현식 ----------------------- #\n",
    "import re\n",
    "is_ProductName = re.compile(\"[a-zA-Z0-9]+\")\n",
    "# is_KoScalar = re.compile(\"[0-9]+[단칸롤개팩장캔종입원매분시일초포호쿼마단부인박]{1}[터리계분용스]{0,1}\")"
   ]
  },
  {
   "cell_type": "code",
   "execution_count": 3,
   "metadata": {},
   "outputs": [],
   "source": [
    "def MCSplit(keyword):\n",
    "    ret = []\n",
    "    for i in keyword.split(\"\\n\"):\n",
    "        app = i.split(\"\\t\")[0]\n",
    "        if app != 'EOS':\n",
    "            ret.append(app)\n",
    "        else:\n",
    "            return ret\n",
    "    return ret\n",
    "def subSChar(keyword):\n",
    "    ret = re.sub(\"[-=+,.!@#$%^&*(\\)[\\]<\\>{\\}\\'\\\"/_|ㄱ-ㅎ|ㅏ-ㅣ]\",\" \",keyword)\n",
    "    return ret\n",
    "def KoEnMorphs(keyword):\n",
    "    x = (subSChar(keyword.lower())).split()\n",
    "    for i in range(0,len(x)):\n",
    "        for j in is_ProductName.findall(x[i]):\n",
    "            x[i] = x[i].replace(j,\" \" + j + \" \")\n",
    "    x = (\" \".join(x)).split()\n",
    "    ret = []\n",
    "    for i in x:\n",
    "        if is_ProductName.fullmatch(i) == None:\n",
    "            ret += MCSplit(mec.parse((i)))\n",
    "        else:\n",
    "            ret.append(i)\n",
    "    return ret"
   ]
  },
  {
   "cell_type": "code",
   "execution_count": 4,
   "metadata": {},
   "outputs": [
    {
     "name": "stderr",
     "output_type": "stream",
     "text": [
      "E:\\Anaconda3\\lib\\site-packages\\IPython\\core\\interactiveshell.py:3057: DtypeWarning: Columns (9) have mixed types. Specify dtype option on import or set low_memory=False.\n",
      "  interactivity=interactivity, compiler=compiler, result=result)\n"
     ]
    }
   ],
   "source": [
    "beh = pd.read_csv(\"./Data/제6회 L.POINT Big Data Competition-분석용데이터-01.온라인 행동 정보.csv\")\n",
    "tra = pd.read_csv(\"./Data/제6회 L.POINT Big Data Competition-분석용데이터-02.거래 정보.csv\")\n",
    "cus = pd.read_csv(\"./Data/제6회 L.POINT Big Data Competition-분석용데이터-03.고객 Demographic 정보.csv\")\n",
    "cla = pd.read_csv(\"./Data/제6회 L.POINT Big Data Competition-분석용데이터-04.상품분류 정보.csv\")"
   ]
  },
  {
   "cell_type": "code",
   "execution_count": 5,
   "metadata": {},
   "outputs": [],
   "source": [
    "# ------------------------------- 대분류에 키워드 담기 ------------------------------- #"
   ]
  },
  {
   "cell_type": "code",
   "execution_count": 7,
   "metadata": {},
   "outputs": [
    {
     "name": "stdout",
     "output_type": "stream",
     "text": [
      "소분류 갯수 :  1667\n"
     ]
    },
    {
     "name": "stderr",
     "output_type": "stream",
     "text": [
      "100%|█████████████████████████████████████████████████████████████████████████████| 1667/1667 [00:05<00:00, 285.60it/s]\n"
     ]
    }
   ],
   "source": [
    "# 소분류에 담겨져있는 pd_c List\n",
    "kwd_Clac_nm1 = np.load(\"./Keyword in Clac_nm123/소분류 pd_c 키워드 파일.npy\")[1:1668]\n",
    "# pd_c의 길이 1 ~ 1667\n",
    "print(\"소분류 갯수 : \",cla.shape[0])\n",
    "\n",
    "# 키워드 형태소로 나눠서 저장\n",
    "morphs_kwd_Clac_nm1 = []\n",
    "for i in tqdm(kwd_Clac_nm1):\n",
    "    \n",
    "    if len(i) == 0:\n",
    "        morphs_kwd_Clac_nm1.append([])\n",
    "        continue\n",
    "        \n",
    "    temp = []\n",
    "    for j in i:\n",
    "        temp += KoEnMorphs(j)\n",
    "    morphs_kwd_Clac_nm1.append(temp)"
   ]
  },
  {
   "cell_type": "code",
   "execution_count": 9,
   "metadata": {},
   "outputs": [
    {
     "name": "stdout",
     "output_type": "stream",
     "text": [
      "소분류 갯수 :  1663\n",
      "중분류 갯수 :  332\n",
      "대분류 갯수 :  60\n"
     ]
    }
   ],
   "source": [
    "# 소분류의 이름\n",
    "clac_nm3_Name = cla[\"clac_nm3\"].drop_duplicates().values.tolist()\n",
    "print(\"소분류 갯수 : \",len(clac_nm3_Name))\n",
    "# 중분류의 이름\n",
    "clac_nm2_Name = cla[\"clac_nm2\"].drop_duplicates().values.tolist()\n",
    "print(\"중분류 갯수 : \",len(clac_nm2_Name))\n",
    "# 대분류의 이름\n",
    "clac_nm1_Name = cla[\"clac_nm1\"].drop_duplicates().values.tolist()\n",
    "print(\"대분류 갯수 : \",len(clac_nm1_Name))\n",
    "\n",
    "# 중분류에 키워드를 담기위함\n",
    "pd_cClac_nm2 = []\n",
    "for i in range(332):\n",
    "    pd_cClac_nm2.append([])\n",
    "# 대분류에 키워드를 담기위함\n",
    "pd_cClac_nm1 = []\n",
    "for i in range(60):\n",
    "    pd_cClac_nm1.append([])\n",
    "    \n",
    "for i in range(0,len(kwd_Clac_nm1)):\n",
    "    pd_cid = i + 1\n",
    "    \n",
    "    clac_nm1_index = clac_nm1_Name.index(cla[cla[\"pd_c\"]==pd_cid][\"clac_nm1\"].values[0])\n",
    "    clac_nm2_index = clac_nm2_Name.index(cla[cla[\"pd_c\"]==pd_cid][\"clac_nm2\"].values[0])\n",
    "    \n",
    "        \n",
    "    pd_cClac_nm1[clac_nm1_index] += morphs_kwd_Clac_nm1[i]\n",
    "    pd_cClac_nm2[clac_nm2_index] += morphs_kwd_Clac_nm1[i]"
   ]
  },
  {
   "cell_type": "code",
   "execution_count": 10,
   "metadata": {
    "scrolled": true
   },
   "outputs": [
    {
     "name": "stdout",
     "output_type": "stream",
     "text": [
      "Clac_nm1 19 번째 비어있음\n",
      "Clac_nm1 35 번째 비어있음\n",
      "Clac_nm1 51 번째 비어있음\n",
      "Clac_nm1 52 번째 비어있음\n"
     ]
    }
   ],
   "source": [
    "# 4곳\n",
    "for i in range(0,len(pd_cClac_nm1)):\n",
    "    if len(pd_cClac_nm1[i]) == 0:\n",
    "        print(\"Clac_nm1 {0} 번째 비어있음\".format(i))"
   ]
  },
  {
   "cell_type": "code",
   "execution_count": 11,
   "metadata": {
    "scrolled": true
   },
   "outputs": [
    {
     "name": "stdout",
     "output_type": "stream",
     "text": [
      "Clac_nm2 0 번째 비어있음\n",
      "Clac_nm2 2 번째 비어있음\n",
      "Clac_nm2 5 번째 비어있음\n",
      "Clac_nm2 8 번째 비어있음\n",
      "Clac_nm2 9 번째 비어있음\n",
      "Clac_nm2 10 번째 비어있음\n",
      "Clac_nm2 14 번째 비어있음\n",
      "Clac_nm2 15 번째 비어있음\n",
      "Clac_nm2 21 번째 비어있음\n",
      "Clac_nm2 87 번째 비어있음\n",
      "Clac_nm2 92 번째 비어있음\n",
      "Clac_nm2 101 번째 비어있음\n",
      "Clac_nm2 108 번째 비어있음\n",
      "Clac_nm2 118 번째 비어있음\n",
      "Clac_nm2 119 번째 비어있음\n",
      "Clac_nm2 122 번째 비어있음\n",
      "Clac_nm2 124 번째 비어있음\n",
      "Clac_nm2 126 번째 비어있음\n",
      "Clac_nm2 127 번째 비어있음\n",
      "Clac_nm2 128 번째 비어있음\n",
      "Clac_nm2 132 번째 비어있음\n",
      "Clac_nm2 140 번째 비어있음\n",
      "Clac_nm2 141 번째 비어있음\n",
      "Clac_nm2 144 번째 비어있음\n",
      "Clac_nm2 159 번째 비어있음\n",
      "Clac_nm2 162 번째 비어있음\n",
      "Clac_nm2 163 번째 비어있음\n",
      "Clac_nm2 165 번째 비어있음\n",
      "Clac_nm2 166 번째 비어있음\n",
      "Clac_nm2 167 번째 비어있음\n",
      "Clac_nm2 172 번째 비어있음\n",
      "Clac_nm2 173 번째 비어있음\n",
      "Clac_nm2 174 번째 비어있음\n",
      "Clac_nm2 176 번째 비어있음\n",
      "Clac_nm2 180 번째 비어있음\n",
      "Clac_nm2 186 번째 비어있음\n",
      "Clac_nm2 188 번째 비어있음\n",
      "Clac_nm2 189 번째 비어있음\n",
      "Clac_nm2 190 번째 비어있음\n",
      "Clac_nm2 191 번째 비어있음\n",
      "Clac_nm2 192 번째 비어있음\n",
      "Clac_nm2 193 번째 비어있음\n",
      "Clac_nm2 202 번째 비어있음\n",
      "Clac_nm2 209 번째 비어있음\n",
      "Clac_nm2 212 번째 비어있음\n",
      "Clac_nm2 214 번째 비어있음\n",
      "Clac_nm2 217 번째 비어있음\n",
      "Clac_nm2 218 번째 비어있음\n",
      "Clac_nm2 239 번째 비어있음\n",
      "Clac_nm2 258 번째 비어있음\n",
      "Clac_nm2 269 번째 비어있음\n",
      "Clac_nm2 271 번째 비어있음\n",
      "Clac_nm2 287 번째 비어있음\n",
      "Clac_nm2 288 번째 비어있음\n",
      "Clac_nm2 289 번째 비어있음\n",
      "Clac_nm2 290 번째 비어있음\n",
      "Clac_nm2 291 번째 비어있음\n",
      "Clac_nm2 293 번째 비어있음\n",
      "Clac_nm2 294 번째 비어있음\n",
      "Clac_nm2 301 번째 비어있음\n",
      "Clac_nm2 302 번째 비어있음\n",
      "Clac_nm2 309 번째 비어있음\n",
      "Clac_nm2 321 번째 비어있음\n",
      "Clac_nm2 323 번째 비어있음\n"
     ]
    }
   ],
   "source": [
    "for i in range(0,len(pd_cClac_nm2)):\n",
    "    if len(pd_cClac_nm2[i]) == 0:\n",
    "        print(\"Clac_nm2 {0} 번째 비어있음\".format(i))"
   ]
  },
  {
   "cell_type": "code",
   "execution_count": 12,
   "metadata": {},
   "outputs": [],
   "source": [
    "np.save(\"./Keyword in Clac_nm123/대분류 pd_c 키워드 파일\",np.array(pd_cClac_nm1))\n",
    "np.save(\"./Keyword in Clac_nm123/중분류 pd_c 키워드 파일\",np.array(pd_cClac_nm2))"
   ]
  },
  {
   "cell_type": "code",
   "execution_count": 13,
   "metadata": {},
   "outputs": [],
   "source": [
    "np.save(\"./Keyword in Clac_nm123/대분류 pd_c Name 파일\",np.array(clac_nm1_Name))\n",
    "np.save(\"./Keyword in Clac_nm123/중분류 pd_c Name 파일\",np.array(clac_nm2_Name))\n",
    "np.save(\"./Keyword in Clac_nm123/소분류 pd_c Name 파일\",np.array(clac_nm3_Name))"
   ]
  }
 ],
 "metadata": {
  "kernelspec": {
   "display_name": "Python 3",
   "language": "python",
   "name": "python3"
  },
  "language_info": {
   "codemirror_mode": {
    "name": "ipython",
    "version": 3
   },
   "file_extension": ".py",
   "mimetype": "text/x-python",
   "name": "python",
   "nbconvert_exporter": "python",
   "pygments_lexer": "ipython3",
   "version": "3.7.3"
  }
 },
 "nbformat": 4,
 "nbformat_minor": 2
}
