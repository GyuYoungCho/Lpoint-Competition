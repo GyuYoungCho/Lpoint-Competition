{
 "cells": [
  {
   "cell_type": "code",
   "execution_count": 1,
   "metadata": {},
   "outputs": [],
   "source": [
    "import pandas as pd\n",
    "train = pd.read_csv(\"train.csv\",sep=\",\")\n",
    "test = pd.read_csv(\"test_job.csv\",sep=\",\")\n",
    "job_tag = pd.read_csv(\"job_tags.csv\",sep=\",\")\n",
    "user_tag = pd.read_csv(\"user_tags.csv\",sep=\",\")\n",
    "job_company = pd.read_csv(\"job_companies.csv\",sep=\",\")\n",
    "tags = pd.read_csv(\"tags.csv\",sep=\",\")"
   ]
  },
  {
   "cell_type": "code",
   "execution_count": 2,
   "metadata": {},
   "outputs": [
    {
     "data": {
      "text/plain": [
       "tagID      0\n",
       "keyword    0\n",
       "dtype: int64"
      ]
     },
     "execution_count": 2,
     "metadata": {},
     "output_type": "execute_result"
    }
   ],
   "source": [
    "tags.isnull().sum()"
   ]
  },
  {
   "cell_type": "code",
   "execution_count": 3,
   "metadata": {},
   "outputs": [
    {
     "data": {
      "text/html": [
       "<div>\n",
       "<style scoped>\n",
       "    .dataframe tbody tr th:only-of-type {\n",
       "        vertical-align: middle;\n",
       "    }\n",
       "\n",
       "    .dataframe tbody tr th {\n",
       "        vertical-align: top;\n",
       "    }\n",
       "\n",
       "    .dataframe thead th {\n",
       "        text-align: right;\n",
       "    }\n",
       "</style>\n",
       "<table border=\"1\" class=\"dataframe\">\n",
       "  <thead>\n",
       "    <tr style=\"text-align: right;\">\n",
       "      <th></th>\n",
       "      <th>userID</th>\n",
       "      <th>jobID</th>\n",
       "    </tr>\n",
       "  </thead>\n",
       "  <tbody>\n",
       "    <tr>\n",
       "      <th>count</th>\n",
       "      <td>8435</td>\n",
       "      <td>8435</td>\n",
       "    </tr>\n",
       "    <tr>\n",
       "      <th>unique</th>\n",
       "      <td>196</td>\n",
       "      <td>733</td>\n",
       "    </tr>\n",
       "    <tr>\n",
       "      <th>top</th>\n",
       "      <td>b052e2e0c0ad1b2d5036bd56e27d061c</td>\n",
       "      <td>da0d1111d2dc5d489242e60ebcbaf988</td>\n",
       "    </tr>\n",
       "    <tr>\n",
       "      <th>freq</th>\n",
       "      <td>155</td>\n",
       "      <td>74</td>\n",
       "    </tr>\n",
       "  </tbody>\n",
       "</table>\n",
       "</div>"
      ],
      "text/plain": [
       "                                  userID                             jobID\n",
       "count                               8435                              8435\n",
       "unique                               196                               733\n",
       "top     b052e2e0c0ad1b2d5036bd56e27d061c  da0d1111d2dc5d489242e60ebcbaf988\n",
       "freq                                 155                                74"
      ]
     },
     "execution_count": 3,
     "metadata": {},
     "output_type": "execute_result"
    }
   ],
   "source": [
    "set = pd.concat([train.iloc[:,[0,1]],test],axis=0)\n",
    "set.describe()"
   ]
  },
  {
   "cell_type": "code",
   "execution_count": 5,
   "metadata": {},
   "outputs": [
    {
     "data": {
      "text/html": [
       "<div>\n",
       "<style scoped>\n",
       "    .dataframe tbody tr th:only-of-type {\n",
       "        vertical-align: middle;\n",
       "    }\n",
       "\n",
       "    .dataframe tbody tr th {\n",
       "        vertical-align: top;\n",
       "    }\n",
       "\n",
       "    .dataframe thead th {\n",
       "        text-align: right;\n",
       "    }\n",
       "</style>\n",
       "<table border=\"1\" class=\"dataframe\">\n",
       "  <thead>\n",
       "    <tr style=\"text-align: right;\">\n",
       "      <th></th>\n",
       "      <th>userID</th>\n",
       "      <th>jobID</th>\n",
       "      <th>tagID_x</th>\n",
       "      <th>tagID_y</th>\n",
       "      <th>tagID_x</th>\n",
       "      <th>keyword_x</th>\n",
       "      <th>tagID_y</th>\n",
       "      <th>keyword_y</th>\n",
       "    </tr>\n",
       "  </thead>\n",
       "  <tbody>\n",
       "    <tr>\n",
       "      <th>count</th>\n",
       "      <td>4230983</td>\n",
       "      <td>4230983</td>\n",
       "      <td>4230983</td>\n",
       "      <td>4230983</td>\n",
       "      <td>4230983</td>\n",
       "      <td>4230983</td>\n",
       "      <td>4230983</td>\n",
       "      <td>4230983</td>\n",
       "    </tr>\n",
       "    <tr>\n",
       "      <th>unique</th>\n",
       "      <td>196</td>\n",
       "      <td>733</td>\n",
       "      <td>345</td>\n",
       "      <td>240</td>\n",
       "      <td>345</td>\n",
       "      <td>345</td>\n",
       "      <td>240</td>\n",
       "      <td>240</td>\n",
       "    </tr>\n",
       "    <tr>\n",
       "      <th>top</th>\n",
       "      <td>b052e2e0c0ad1b2d5036bd56e27d061c</td>\n",
       "      <td>13f9896df61279c928f19721878fac41</td>\n",
       "      <td>f47330643ae134ca204bf6b2481fec47</td>\n",
       "      <td>0e095e054ee94774d6a496099eb1cf6a</td>\n",
       "      <td>f47330643ae134ca204bf6b2481fec47</td>\n",
       "      <td>Java</td>\n",
       "      <td>0e095e054ee94774d6a496099eb1cf6a</td>\n",
       "      <td>JavaScript</td>\n",
       "    </tr>\n",
       "    <tr>\n",
       "      <th>freq</th>\n",
       "      <td>232200</td>\n",
       "      <td>57699</td>\n",
       "      <td>198035</td>\n",
       "      <td>315413</td>\n",
       "      <td>198035</td>\n",
       "      <td>198035</td>\n",
       "      <td>315413</td>\n",
       "      <td>315413</td>\n",
       "    </tr>\n",
       "  </tbody>\n",
       "</table>\n",
       "</div>"
      ],
      "text/plain": [
       "                                  userID                             jobID  \\\n",
       "count                            4230983                           4230983   \n",
       "unique                               196                               733   \n",
       "top     b052e2e0c0ad1b2d5036bd56e27d061c  13f9896df61279c928f19721878fac41   \n",
       "freq                              232200                             57699   \n",
       "\n",
       "                                 tagID_x                           tagID_y  \\\n",
       "count                            4230983                           4230983   \n",
       "unique                               345                               240   \n",
       "top     f47330643ae134ca204bf6b2481fec47  0e095e054ee94774d6a496099eb1cf6a   \n",
       "freq                              198035                            315413   \n",
       "\n",
       "                                 tagID_x keyword_x  \\\n",
       "count                            4230983   4230983   \n",
       "unique                               345       345   \n",
       "top     f47330643ae134ca204bf6b2481fec47      Java   \n",
       "freq                              198035    198035   \n",
       "\n",
       "                                 tagID_y   keyword_y  \n",
       "count                            4230983     4230983  \n",
       "unique                               240         240  \n",
       "top     0e095e054ee94774d6a496099eb1cf6a  JavaScript  \n",
       "freq                              315413      315413  "
      ]
     },
     "execution_count": 5,
     "metadata": {},
     "output_type": "execute_result"
    }
   ],
   "source": [
    "merge1 = pd.merge(set,user_tag,how=\"left\")\n",
    "merge2 = pd.merge(merge1, job_tag, on=\"jobID\", how=\"left\" )\n",
    "merge3 = pd.merge(merge2, tags, left_on=\"tagID_x\", right_on=\"tagID\",how=\"left\")\n",
    "merge4 = pd.merge(merge3, tags, left_on=\"tagID_y\", right_on=\"tagID\",how=\"left\")\n",
    "merge4.describe()"
   ]
  },
  {
   "cell_type": "code",
   "execution_count": 7,
   "metadata": {},
   "outputs": [
    {
     "data": {
      "text/plain": [
       "14612"
      ]
     },
     "execution_count": 7,
     "metadata": {},
     "output_type": "execute_result"
    }
   ],
   "source": [
    "m1 = pd.merge(user_tag, tags, how=\"left\")\n",
    "m2 = pd.merge(job_tag, tags, how=\"left\")\n",
    "m11 = m1.iloc[:,[0,2]]\n",
    "m22 = m2.iloc[:,[0,2]]\n",
    "m11.duplicated().sum()"
   ]
  },
  {
   "cell_type": "code",
   "execution_count": 56,
   "metadata": {},
   "outputs": [
    {
     "data": {
      "text/plain": [
       "3616524"
      ]
     },
     "execution_count": 56,
     "metadata": {},
     "output_type": "execute_result"
    }
   ],
   "source": [
    "merge4.duplicated().sum()"
   ]
  }
 ],
 "metadata": {
  "kernelspec": {
   "display_name": "Python [conda env:py37] *",
   "language": "python",
   "name": "conda-env-py37-py"
  },
  "language_info": {
   "codemirror_mode": {
    "name": "ipython",
    "version": 3
   },
   "file_extension": ".py",
   "mimetype": "text/x-python",
   "name": "python",
   "nbconvert_exporter": "python",
   "pygments_lexer": "ipython3",
   "version": "3.6.9"
  }
 },
 "nbformat": 4,
 "nbformat_minor": 2
}
